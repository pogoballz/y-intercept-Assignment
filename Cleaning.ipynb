{
 "cells": [
  {
   "cell_type": "code",
   "execution_count": null,
   "metadata": {},
   "outputs": [],
   "source": [
    "from myFunctions import *\n"
   ]
  },
  {
   "cell_type": "markdown",
   "metadata": {},
   "source": [
    "# Data cleaning and preprocessing\n",
    "\n",
    "1. Classify data points into their own time series (based on ticker value)\n",
    "2. Sort time series data chronologically\n",
    "3. Ensure no erroneous values"
   ]
  },
  {
   "cell_type": "code",
   "execution_count": 7,
   "metadata": {},
   "outputs": [
    {
     "data": {
      "text/html": [
       "<div>\n",
       "<style scoped>\n",
       "    .dataframe tbody tr th:only-of-type {\n",
       "        vertical-align: middle;\n",
       "    }\n",
       "\n",
       "    .dataframe tbody tr th {\n",
       "        vertical-align: top;\n",
       "    }\n",
       "\n",
       "    .dataframe thead th {\n",
       "        text-align: right;\n",
       "    }\n",
       "</style>\n",
       "<table border=\"1\" class=\"dataframe\">\n",
       "  <thead>\n",
       "    <tr style=\"text-align: right;\">\n",
       "      <th></th>\n",
       "      <th>ticker</th>\n",
       "      <th>date</th>\n",
       "      <th>last</th>\n",
       "      <th>volume</th>\n",
       "    </tr>\n",
       "  </thead>\n",
       "  <tbody>\n",
       "    <tr>\n",
       "      <th>0</th>\n",
       "      <td>1332 JT</td>\n",
       "      <td>2013-01-04</td>\n",
       "      <td>169.0987</td>\n",
       "      <td>1464100</td>\n",
       "    </tr>\n",
       "    <tr>\n",
       "      <th>1</th>\n",
       "      <td>1332 JT</td>\n",
       "      <td>2013-01-07</td>\n",
       "      <td>166.3266</td>\n",
       "      <td>1783500</td>\n",
       "    </tr>\n",
       "    <tr>\n",
       "      <th>2</th>\n",
       "      <td>1332 JT</td>\n",
       "      <td>2013-01-08</td>\n",
       "      <td>166.3266</td>\n",
       "      <td>1759800</td>\n",
       "    </tr>\n",
       "    <tr>\n",
       "      <th>3</th>\n",
       "      <td>1332 JT</td>\n",
       "      <td>2013-01-09</td>\n",
       "      <td>165.4026</td>\n",
       "      <td>767800</td>\n",
       "    </tr>\n",
       "    <tr>\n",
       "      <th>4</th>\n",
       "      <td>1332 JT</td>\n",
       "      <td>2013-01-10</td>\n",
       "      <td>167.2507</td>\n",
       "      <td>1503100</td>\n",
       "    </tr>\n",
       "  </tbody>\n",
       "</table>\n",
       "</div>"
      ],
      "text/plain": [
       "    ticker        date      last   volume\n",
       "0  1332 JT  2013-01-04  169.0987  1464100\n",
       "1  1332 JT  2013-01-07  166.3266  1783500\n",
       "2  1332 JT  2013-01-08  166.3266  1759800\n",
       "3  1332 JT  2013-01-09  165.4026   767800\n",
       "4  1332 JT  2013-01-10  167.2507  1503100"
      ]
     },
     "execution_count": 7,
     "metadata": {},
     "output_type": "execute_result"
    }
   ],
   "source": [
    "raw_data.head()"
   ]
  },
  {
   "cell_type": "code",
   "execution_count": 8,
   "metadata": {},
   "outputs": [
    {
     "name": "stdout",
     "output_type": "stream",
     "text": [
      "248\n",
      "['1332 JT', '1333 JT', '1334 JT', '1605 JT', '1721 JT', '1801 JT', '1802 JT', '1803 JT', '1808 JT', '1812 JT', '1925 JT', '1928 JT', '1963 JT', '2002 JT', '2269 JT', '2282 JT', '2413 JT', '2432 JT', '2501 JT', '2502 JT', '2503 JT', '2531 JT', '2768 JT', '2801 JT', '2802 JT', '2871 JT', '2914 JT', '3086 JT', '3099 JT', '3101 JT', '3103 JT', '3105 JT', '3110 JT', '3289 JT', '3382 JT', '3401 JT', '3402 JT', '3405 JT', '3407 JT', '3436 JT', '3659 JT', '3861 JT', '3863 JT', '3864 JT', '3865 JT', '3893 JT', '4004 JT', '4005 JT', '4021 JT', '4041 JT', '4042 JT', '4043 JT', '4061 JT', '4063 JT', '4151 JT', '4183 JT', '4188 JT', '4208 JT', '4272 JT', '4324 JT', '4452 JT', '4502 JT', '4503 JT', '4506 JT', '4507 JT', '4519 JT', '4523 JT', '4543 JT', '4568 JT', '4578 JT', '4631 JT', '4689 JT', '4704 JT', '4751 JT', '4755 JT', '4901 JT', '4902 JT', '4911 JT', '5002 JT', '5019 JT', '5020 JT', '5101 JT', '5108 JT', '5201 JT', '5202 JT', '5214 JT', '5232 JT', '5233 JT', '5301 JT', '5332 JT', '5333 JT', '5401 JT', '5406 JT', '5411 JT', '5413 JT', '5541 JT', '5631 JT', '5703 JT', '5706 JT', '5707 JT', '5711 JT', '5713 JT', '5714 JT', '5715 JT', '5801 JT', '5802 JT', '5803 JT', '5901 JT', '6098 JT', '6103 JT', '6113 JT', '6178 JT', '6301 JT', '6302 JT', '6305 JT', '6326 JT', '6361 JT', '6366 JT', '6367 JT', '6471 JT', '6472 JT', '6473 JT', '6479 JT', '6501 JT', '6502 JT', '6503 JT', '6504 JT', '6506 JT', '6508 JT', '6645 JT', '6674 JT', '6701 JT', '6702 JT', '6703 JT', '6724 JT', '6752 JT', '6753 JT', '6758 JT', '6762 JT', '6767 JT', '6770 JT', '6773 JT', '6841 JT', '6857 JT', '6902 JT', '6952 JT', '6954 JT', '6971 JT', '6976 JT', '6988 JT', '7003 JT', '7004 JT', '7011 JT', '7012 JT', '7013 JT', '7186 JT', '7201 JT', '7202 JT', '7203 JT', '7205 JT', '7211 JT', '7261 JT', '7267 JT', '7269 JT', '7270 JT', '7272 JT', '7731 JT', '7733 JT', '7735 JT', '7751 JT', '7752 JT', '7762 JT', '7832 JT', '7911 JT', '7912 JT', '7951 JT', '8001 JT', '8002 JT', '8015 JT', '8028 JT', '8031 JT', '8035 JT', '8053 JT', '8058 JT', '8233 JT', '8252 JT', '8253 JT', '8267 JT', '8270 JT', '8303 JT', '8304 JT', '8306 JT', '8308 JT', '8309 JT', '8316 JT', '8331 JT', '8332 JT', '8354 JT', '8355 JT', '8411 JT', '8601 JT', '8604 JT', '8628 JT', '8630 JT', '8697 JT', '8725 JT', '8729 JT', '8750 JT', '8766 JT', '8795 JT', '8801 JT', '8802 JT', '8803 JT', '8804 JT', '8815 JT', '8830 JT', '9001 JT', '9005 JT', '9007 JT', '9008 JT', '9009 JT', '9020 JT', '9021 JT', '9022 JT', '9062 JT', '9064 JT', '9101 JT', '9104 JT', '9107 JT', '9202 JT', '9301 JT', '9412 JT', '9432 JT', '9433 JT', '9434 JT', '9437 JT', '9501 JT', '9502 JT', '9503 JT', '9531 JT', '9532 JT', '9602 JT', '9613 JT', '9681 JT', '9735 JT', '9766 JT', '9983 JT', '9984 JT']\n"
     ]
    }
   ],
   "source": [
    "print(len(raw_data['ticker'].unique()))\n",
    "tickers = list(raw_data['ticker'].unique())\n",
    "print(tickers)"
   ]
  },
  {
   "cell_type": "code",
   "execution_count": 9,
   "metadata": {},
   "outputs": [],
   "source": [
    "df = {}\n",
    "\n",
    "# create dictionary to hold each time series\n",
    "# change to datetime object\n",
    "# sort values based on ascending chronological order\n",
    "for ticker in tickers:\n",
    "    curDF = raw_data[raw_data['ticker'] == ticker].copy()\n",
    "    curDF.drop('ticker', axis = 1, inplace = True)\n",
    "    curDF['date'] = pd.to_datetime(curDF['date'])\n",
    "    curDF.sort_values(by='date', inplace=True)\n",
    "    curDF.set_index('date', inplace=True)\n",
    "    df[ticker] = curDF\n"
   ]
  },
  {
   "cell_type": "code",
   "execution_count": 10,
   "metadata": {},
   "outputs": [
    {
     "data": {
      "text/html": [
       "<div>\n",
       "<style scoped>\n",
       "    .dataframe tbody tr th:only-of-type {\n",
       "        vertical-align: middle;\n",
       "    }\n",
       "\n",
       "    .dataframe tbody tr th {\n",
       "        vertical-align: top;\n",
       "    }\n",
       "\n",
       "    .dataframe thead th {\n",
       "        text-align: right;\n",
       "    }\n",
       "</style>\n",
       "<table border=\"1\" class=\"dataframe\">\n",
       "  <thead>\n",
       "    <tr style=\"text-align: right;\">\n",
       "      <th></th>\n",
       "      <th>last</th>\n",
       "      <th>volume</th>\n",
       "    </tr>\n",
       "    <tr>\n",
       "      <th>date</th>\n",
       "      <th></th>\n",
       "      <th></th>\n",
       "    </tr>\n",
       "  </thead>\n",
       "  <tbody>\n",
       "    <tr>\n",
       "      <th>2013-01-04</th>\n",
       "      <td>169.0987</td>\n",
       "      <td>1464100</td>\n",
       "    </tr>\n",
       "    <tr>\n",
       "      <th>2013-01-07</th>\n",
       "      <td>166.3266</td>\n",
       "      <td>1783500</td>\n",
       "    </tr>\n",
       "    <tr>\n",
       "      <th>2013-01-08</th>\n",
       "      <td>166.3266</td>\n",
       "      <td>1759800</td>\n",
       "    </tr>\n",
       "    <tr>\n",
       "      <th>2013-01-09</th>\n",
       "      <td>165.4026</td>\n",
       "      <td>767800</td>\n",
       "    </tr>\n",
       "    <tr>\n",
       "      <th>2013-01-10</th>\n",
       "      <td>167.2507</td>\n",
       "      <td>1503100</td>\n",
       "    </tr>\n",
       "    <tr>\n",
       "      <th>...</th>\n",
       "      <td>...</td>\n",
       "      <td>...</td>\n",
       "    </tr>\n",
       "    <tr>\n",
       "      <th>2021-03-15</th>\n",
       "      <td>560.0000</td>\n",
       "      <td>1537500</td>\n",
       "    </tr>\n",
       "    <tr>\n",
       "      <th>2021-03-16</th>\n",
       "      <td>559.0000</td>\n",
       "      <td>1594200</td>\n",
       "    </tr>\n",
       "    <tr>\n",
       "      <th>2021-03-17</th>\n",
       "      <td>561.0000</td>\n",
       "      <td>1328200</td>\n",
       "    </tr>\n",
       "    <tr>\n",
       "      <th>2021-03-18</th>\n",
       "      <td>565.0000</td>\n",
       "      <td>1421200</td>\n",
       "    </tr>\n",
       "    <tr>\n",
       "      <th>2021-03-19</th>\n",
       "      <td>567.0000</td>\n",
       "      <td>2197500</td>\n",
       "    </tr>\n",
       "  </tbody>\n",
       "</table>\n",
       "<p>2005 rows × 2 columns</p>\n",
       "</div>"
      ],
      "text/plain": [
       "                last   volume\n",
       "date                         \n",
       "2013-01-04  169.0987  1464100\n",
       "2013-01-07  166.3266  1783500\n",
       "2013-01-08  166.3266  1759800\n",
       "2013-01-09  165.4026   767800\n",
       "2013-01-10  167.2507  1503100\n",
       "...              ...      ...\n",
       "2021-03-15  560.0000  1537500\n",
       "2021-03-16  559.0000  1594200\n",
       "2021-03-17  561.0000  1328200\n",
       "2021-03-18  565.0000  1421200\n",
       "2021-03-19  567.0000  2197500\n",
       "\n",
       "[2005 rows x 2 columns]"
      ]
     },
     "execution_count": 10,
     "metadata": {},
     "output_type": "execute_result"
    }
   ],
   "source": [
    "df['1332 JT']"
   ]
  },
  {
   "cell_type": "markdown",
   "metadata": {},
   "source": [
    "Save dictionary as pickle file"
   ]
  },
  {
   "cell_type": "code",
   "execution_count": 5,
   "metadata": {},
   "outputs": [],
   "source": [
    "with open('cleanedData.pickle', 'wb') as handle:\n",
    "    pickle.dump(df, handle, protocol=pickle.HIGHEST_PROTOCOL)"
   ]
  }
 ],
 "metadata": {
  "kernelspec": {
   "display_name": "oct2023",
   "language": "python",
   "name": "python3"
  },
  "language_info": {
   "codemirror_mode": {
    "name": "ipython",
    "version": 3
   },
   "file_extension": ".py",
   "mimetype": "text/x-python",
   "name": "python",
   "nbconvert_exporter": "python",
   "pygments_lexer": "ipython3",
   "version": "3.9.18"
  },
  "orig_nbformat": 4
 },
 "nbformat": 4,
 "nbformat_minor": 2
}
